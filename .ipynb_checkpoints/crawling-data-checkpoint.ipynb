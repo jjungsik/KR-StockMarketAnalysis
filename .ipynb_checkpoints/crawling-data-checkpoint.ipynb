{
 "cells": [
  {
   "cell_type": "code",
   "execution_count": 1,
   "id": "4da018d3",
   "metadata": {},
   "outputs": [],
   "source": [
    "import pandas as pd\n",
    "import numpy as np\n",
    "# import crawling related\n",
    "import requests\n",
    "from bs4 import BeautifulSoup\n",
    "\n",
    "from IPython.core.interactiveshell import InteractiveShell\n",
    "InteractiveShell.ast_node_interactivity = \"all\"\n",
    "\n",
    "pd.set_option('display.float_format', lambda x: '%.3f' % x)\n",
    "pd.set_option('max_columns', None)"
   ]
  },
  {
   "cell_type": "markdown",
   "id": "7f3d2e04",
   "metadata": {},
   "source": [
    "# Load data using `BeautifulSoup` and `requests`"
   ]
  },
  {
   "cell_type": "markdown",
   "id": "f6913771",
   "metadata": {},
   "source": [
    "- Korea Stock Data bring in '[Naver Finace](https://finance.naver.com)' like 'yahoo Finace'\n",
    "- **lxml** is [BeatifulSoup Parser](https://lxml.de/elementsoup.html)"
   ]
  },
  {
   "cell_type": "code",
   "execution_count": 7,
   "id": "efefdcb4",
   "metadata": {
    "scrolled": true
   },
   "outputs": [
    {
     "name": "stdout",
     "output_type": "stream",
     "text": [
      "['N', '종목명', '현재가', '전일비', '등락률', '액면가', '시가총액', '상장주식수', '외국인비율', '거래량', 'PER', 'ROE', '토론실']\n"
     ]
    }
   ],
   "source": [
    "# Korea market cap ranking URL\n",
    "url = \"https://finance.naver.com/sise/sise_market_sum.nhn?page=1\"\n",
    "\n",
    "res = requests.get(url)\n",
    "soup = BeautifulSoup(res.text, 'lxml')\n",
    "\n",
    "stock_head = soup.find(\"thead\").find_all(\"th\")\n",
    "data_head = [head.get_text() for head in stock_head]\n",
    "\n",
    "print(data_head)"
   ]
  },
  {
   "cell_type": "code",
   "execution_count": 9,
   "id": "674bf818",
   "metadata": {},
   "outputs": [
    {
     "data": {
      "text/plain": [
       "['1',\n",
       " '삼성전자',\n",
       " '71,200',\n",
       " '800',\n",
       " '+1.14%',\n",
       " '100',\n",
       " '4,250,485',\n",
       " '5,969,783',\n",
       " '51.79',\n",
       " '17,013,401',\n",
       " '12.32',\n",
       " '13.92']"
      ]
     },
     "execution_count": 9,
     "metadata": {},
     "output_type": "execute_result"
    },
    {
     "data": {
      "text/plain": [
       "['2',\n",
       " 'SK하이닉스',\n",
       " '124,000',\n",
       " '7,500',\n",
       " '+6.44%',\n",
       " '5,000',\n",
       " '902,723',\n",
       " '728,002',\n",
       " '50.33',\n",
       " '7,203,176',\n",
       " '9.40',\n",
       " '16.84']"
      ]
     },
     "execution_count": 9,
     "metadata": {},
     "output_type": "execute_result"
    },
    {
     "data": {
      "text/plain": [
       "['3',\n",
       " 'LG에너지솔루션',\n",
       " '376,000',\n",
       " '12,500',\n",
       " '+3.44%',\n",
       " '500',\n",
       " '879,840',\n",
       " '234,000',\n",
       " '2.90',\n",
       " '809,357',\n",
       " '94.88',\n",
       " '10.68']"
      ]
     },
     "execution_count": 9,
     "metadata": {},
     "output_type": "execute_result"
    },
    {
     "data": {
      "text/plain": [
       "['4',\n",
       " 'NAVER',\n",
       " '344,500',\n",
       " '14,000',\n",
       " '+4.24%',\n",
       " '100',\n",
       " '565,149',\n",
       " '164,049',\n",
       " '54.59',\n",
       " '1,067,972',\n",
       " '3.43',\n",
       " '106.72']"
      ]
     },
     "execution_count": 9,
     "metadata": {},
     "output_type": "execute_result"
    },
    {
     "data": {
      "text/plain": [
       "['5',\n",
       " '삼성바이오로직스',\n",
       " '815,000',\n",
       " '11,000',\n",
       " '-1.33%',\n",
       " '2,500',\n",
       " '539,245',\n",
       " '66,165',\n",
       " '10.54',\n",
       " '62,855',\n",
       " '138.65',\n",
       " '8.21']"
      ]
     },
     "execution_count": 9,
     "metadata": {},
     "output_type": "execute_result"
    },
    {
     "data": {
      "text/plain": [
       "['6',\n",
       " '삼성전자우',\n",
       " '64,500',\n",
       " '1,100',\n",
       " '+1.74%',\n",
       " '100',\n",
       " '530,762',\n",
       " '822,887',\n",
       " '74.06',\n",
       " '1,351,310',\n",
       " '11.16',\n",
       " 'N/A']"
      ]
     },
     "execution_count": 9,
     "metadata": {},
     "output_type": "execute_result"
    },
    {
     "data": {
      "text/plain": [
       "['7',\n",
       " '카카오',\n",
       " '106,500',\n",
       " '2,500',\n",
       " '+2.40%',\n",
       " '100',\n",
       " '475,121',\n",
       " '446,123',\n",
       " '28.50',\n",
       " '3,490,813',\n",
       " '41.93',\n",
       " '2.70']"
      ]
     },
     "execution_count": 9,
     "metadata": {},
     "output_type": "execute_result"
    },
    {
     "data": {
      "text/plain": [
       "['8',\n",
       " '현대차',\n",
       " '168,500',\n",
       " '500',\n",
       " '+0.30%',\n",
       " '5,000',\n",
       " '360,031',\n",
       " '213,668',\n",
       " '26.37',\n",
       " '936,850',\n",
       " '9.44',\n",
       " '6.84']"
      ]
     },
     "execution_count": 9,
     "metadata": {},
     "output_type": "execute_result"
    },
    {
     "data": {
      "text/plain": [
       "['9',\n",
       " '삼성SDI',\n",
       " '508,000',\n",
       " '10,000',\n",
       " '+2.01%',\n",
       " '5,000',\n",
       " '349,324',\n",
       " '68,765',\n",
       " '43.33',\n",
       " '367,705',\n",
       " '30.56',\n",
       " '8.45']"
      ]
     },
     "execution_count": 9,
     "metadata": {},
     "output_type": "execute_result"
    },
    {
     "data": {
      "text/plain": [
       "['10',\n",
       " 'LG화학',\n",
       " '470,000',\n",
       " '28,000',\n",
       " '+6.33%',\n",
       " '5,000',\n",
       " '331,784',\n",
       " '70,592',\n",
       " '48.25',\n",
       " '698,989',\n",
       " '10.03',\n",
       " '18.47']"
      ]
     },
     "execution_count": 9,
     "metadata": {},
     "output_type": "execute_result"
    },
    {
     "data": {
      "text/plain": [
       "['11',\n",
       " '기아',\n",
       " '72,400',\n",
       " '300',\n",
       " '+0.42%',\n",
       " '5,000',\n",
       " '293,483',\n",
       " '405,363',\n",
       " '34.68',\n",
       " '1,546,978',\n",
       " '6.16',\n",
       " '14.69']"
      ]
     },
     "execution_count": 9,
     "metadata": {},
     "output_type": "execute_result"
    },
    {
     "data": {
      "text/plain": [
       "['12',\n",
       " '셀트리온',\n",
       " '185,500',\n",
       " '4,500',\n",
       " '+2.49%',\n",
       " '1,000',\n",
       " '255,908',\n",
       " '137,956',\n",
       " '20.18',\n",
       " '730,375',\n",
       " '45.34',\n",
       " '15.81']"
      ]
     },
     "execution_count": 9,
     "metadata": {},
     "output_type": "execute_result"
    },
    {
     "data": {
      "text/plain": [
       "['13',\n",
       " '카카오뱅크',\n",
       " '52,100',\n",
       " '500',\n",
       " '-0.95%',\n",
       " '5,000',\n",
       " '247,558',\n",
       " '475,159',\n",
       " '16.34',\n",
       " '1,239,212',\n",
       " '111.56',\n",
       " '4.91']"
      ]
     },
     "execution_count": 9,
     "metadata": {},
     "output_type": "execute_result"
    },
    {
     "data": {
      "text/plain": [
       "['14',\n",
       " 'POSCO홀딩스',\n",
       " '283,500',\n",
       " '500',\n",
       " '+0.18%',\n",
       " '5,000',\n",
       " '247,175',\n",
       " '87,187',\n",
       " '53.10',\n",
       " '224,244',\n",
       " '3.74',\n",
       " '13.97']"
      ]
     },
     "execution_count": 9,
     "metadata": {},
     "output_type": "execute_result"
    },
    {
     "data": {
      "text/plain": [
       "['15',\n",
       " 'KB금융',\n",
       " '57,900',\n",
       " '1,000',\n",
       " '+1.76%',\n",
       " '5,000',\n",
       " '238,752',\n",
       " '412,352',\n",
       " '72.26',\n",
       " '2,614,970',\n",
       " '5.53',\n",
       " '8.53']"
      ]
     },
     "execution_count": 9,
     "metadata": {},
     "output_type": "execute_result"
    },
    {
     "data": {
      "text/plain": [
       "['16',\n",
       " '삼성물산',\n",
       " '115,500',\n",
       " '500',\n",
       " '+0.43%',\n",
       " '100',\n",
       " '215,855',\n",
       " '186,887',\n",
       " '15.92',\n",
       " '266,866',\n",
       " '13.32',\n",
       " '5.40']"
      ]
     },
     "execution_count": 9,
     "metadata": {},
     "output_type": "execute_result"
    },
    {
     "data": {
      "text/plain": [
       "['17',\n",
       " 'LG전자',\n",
       " '126,000',\n",
       " '1,000',\n",
       " '+0.80%',\n",
       " '5,000',\n",
       " '206,196',\n",
       " '163,648',\n",
       " '28.46',\n",
       " '1,032,596',\n",
       " '18.18',\n",
       " '13.23']"
      ]
     },
     "execution_count": 9,
     "metadata": {},
     "output_type": "execute_result"
    },
    {
     "data": {
      "text/plain": [
       "['18',\n",
       " '현대모비스',\n",
       " '210,000',\n",
       " '2,000',\n",
       " '+0.96%',\n",
       " '5,000',\n",
       " '198,603',\n",
       " '94,573',\n",
       " '34.27',\n",
       " '217,445',\n",
       " '8.46',\n",
       " '6.87']"
      ]
     },
     "execution_count": 9,
     "metadata": {},
     "output_type": "execute_result"
    },
    {
     "data": {
      "text/plain": [
       "['19',\n",
       " '신한지주',\n",
       " '38,300',\n",
       " '400',\n",
       " '+1.06%',\n",
       " '5,000',\n",
       " '197,858',\n",
       " '516,600',\n",
       " '62.04',\n",
       " '1,502,355',\n",
       " '5.08',\n",
       " '8.20']"
      ]
     },
     "execution_count": 9,
     "metadata": {},
     "output_type": "execute_result"
    },
    {
     "data": {
      "text/plain": [
       "['20',\n",
       " '카카오페이',\n",
       " '142,500',\n",
       " '1,000',\n",
       " '+0.71%',\n",
       " '500',\n",
       " '188,341',\n",
       " '132,169',\n",
       " '42.49',\n",
       " '191,668',\n",
       " '-708.96',\n",
       " '-17.97']"
      ]
     },
     "execution_count": 9,
     "metadata": {},
     "output_type": "execute_result"
    },
    {
     "data": {
      "text/plain": [
       "['21',\n",
       " 'SK이노베이션',\n",
       " '201,000',\n",
       " '2,000',\n",
       " '+1.01%',\n",
       " '5,000',\n",
       " '185,856',\n",
       " '92,466',\n",
       " '23.18',\n",
       " '307,549',\n",
       " '61.85',\n",
       " '1.91']"
      ]
     },
     "execution_count": 9,
     "metadata": {},
     "output_type": "execute_result"
    },
    {
     "data": {
      "text/plain": [
       "['22',\n",
       " 'SK',\n",
       " '235,500',\n",
       " '1,000',\n",
       " '+0.43%',\n",
       " '200',\n",
       " '174,622',\n",
       " '74,149',\n",
       " '21.54',\n",
       " '117,873',\n",
       " '8.52',\n",
       " '10.19']"
      ]
     },
     "execution_count": 9,
     "metadata": {},
     "output_type": "execute_result"
    },
    {
     "data": {
      "text/plain": [
       "['23',\n",
       " 'HMM',\n",
       " '32,550',\n",
       " '550',\n",
       " '+1.72%',\n",
       " '5,000',\n",
       " '159,182',\n",
       " '489,039',\n",
       " '11.98',\n",
       " '5,037,885',\n",
       " '4.10',\n",
       " '8.93']"
      ]
     },
     "execution_count": 9,
     "metadata": {},
     "output_type": "execute_result"
    },
    {
     "data": {
      "text/plain": [
       "['24',\n",
       " '한국전력',\n",
       " '24,250',\n",
       " '400',\n",
       " '-1.62%',\n",
       " '5,000',\n",
       " '155,676',\n",
       " '641,964',\n",
       " '14.96',\n",
       " '2,850,915',\n",
       " '-2.93',\n",
       " '-7.99']"
      ]
     },
     "execution_count": 9,
     "metadata": {},
     "output_type": "execute_result"
    },
    {
     "data": {
      "text/plain": [
       "['25',\n",
       " '하나금융지주',\n",
       " '47,800',\n",
       " '600',\n",
       " '+1.27%',\n",
       " '5,000',\n",
       " '143,516',\n",
       " '300,242',\n",
       " '70.89',\n",
       " '1,125,320',\n",
       " '4.07',\n",
       " '10.86']"
      ]
     },
     "execution_count": 9,
     "metadata": {},
     "output_type": "execute_result"
    },
    {
     "data": {
      "text/plain": [
       "['26',\n",
       " '크래프톤',\n",
       " '284,000',\n",
       " '2,500',\n",
       " '+0.89%',\n",
       " '100',\n",
       " '139,365',\n",
       " '49,072',\n",
       " '29.49',\n",
       " '197,572',\n",
       " '24.82',\n",
       " '17.86']"
      ]
     },
     "execution_count": 9,
     "metadata": {},
     "output_type": "execute_result"
    },
    {
     "data": {
      "text/plain": [
       "['27',\n",
       " '두산중공업',\n",
       " '22,600',\n",
       " '0',\n",
       " '0.00%',\n",
       " '5,000',\n",
       " '136,759',\n",
       " '605,128',\n",
       " '8.34',\n",
       " '7,066,349',\n",
       " '68.07',\n",
       " '-37.20']"
      ]
     },
     "execution_count": 9,
     "metadata": {},
     "output_type": "execute_result"
    },
    {
     "data": {
      "text/plain": [
       "['28',\n",
       " 'LG생활건강',\n",
       " '863,000',\n",
       " '25,000',\n",
       " '+2.98%',\n",
       " '5,000',\n",
       " '134,785',\n",
       " '15,618',\n",
       " '41.14',\n",
       " '97,639',\n",
       " '18.11',\n",
       " '16.65']"
      ]
     },
     "execution_count": 9,
     "metadata": {},
     "output_type": "execute_result"
    },
    {
     "data": {
      "text/plain": [
       "['29',\n",
       " 'SK텔레콤',\n",
       " '57,200',\n",
       " '800',\n",
       " '-1.38%',\n",
       " '100',\n",
       " '125,173',\n",
       " '218,833',\n",
       " '45.64',\n",
       " '614,248',\n",
       " '8.36',\n",
       " '13.63']"
      ]
     },
     "execution_count": 9,
     "metadata": {},
     "output_type": "execute_result"
    },
    {
     "data": {
      "text/plain": [
       "['30',\n",
       " '삼성생명',\n",
       " '62,300',\n",
       " '1,100',\n",
       " '+1.80%',\n",
       " '500',\n",
       " '124,600',\n",
       " '200,000',\n",
       " '12.64',\n",
       " '349,300',\n",
       " '8.48',\n",
       " '4.01']"
      ]
     },
     "execution_count": 9,
     "metadata": {},
     "output_type": "execute_result"
    },
    {
     "data": {
      "text/plain": [
       "['31',\n",
       " '삼성전기',\n",
       " '160,000',\n",
       " '4,500',\n",
       " '+2.89%',\n",
       " '5,000',\n",
       " '119,510',\n",
       " '74,694',\n",
       " '29.20',\n",
       " '822,837',\n",
       " '13.91',\n",
       " '14.29']"
      ]
     },
     "execution_count": 9,
     "metadata": {},
     "output_type": "execute_result"
    },
    {
     "data": {
      "text/plain": [
       "['32',\n",
       " 'LG',\n",
       " '73,800',\n",
       " '1,300',\n",
       " '+1.79%',\n",
       " '5,000',\n",
       " '116,088',\n",
       " '157,301',\n",
       " '36.36',\n",
       " '257,367',\n",
       " '4.87',\n",
       " '7.50']"
      ]
     },
     "execution_count": 9,
     "metadata": {},
     "output_type": "execute_result"
    },
    {
     "data": {
      "text/plain": [
       "['33',\n",
       " '하이브',\n",
       " '280,000',\n",
       " '7,000',\n",
       " '+2.56%',\n",
       " '500',\n",
       " '115,789',\n",
       " '41,353',\n",
       " '15.00',\n",
       " '218,191',\n",
       " '77.65',\n",
       " '6.83']"
      ]
     },
     "execution_count": 9,
     "metadata": {},
     "output_type": "execute_result"
    },
    {
     "data": {
      "text/plain": [
       "['34',\n",
       " 'KT&G',\n",
       " '81,200',\n",
       " '300',\n",
       " '-0.37%',\n",
       " '5,000',\n",
       " '111,482',\n",
       " '137,292',\n",
       " '36.99',\n",
       " '341,036',\n",
       " '9.36',\n",
       " '13.22']"
      ]
     },
     "execution_count": 9,
     "metadata": {},
     "output_type": "execute_result"
    },
    {
     "data": {
      "text/plain": [
       "['35',\n",
       " '삼성에스디에스',\n",
       " '139,500',\n",
       " '500',\n",
       " '-0.36%',\n",
       " '500',\n",
       " '107,942',\n",
       " '77,378',\n",
       " '11.44',\n",
       " '122,070',\n",
       " '17.66',\n",
       " '8.80']"
      ]
     },
     "execution_count": 9,
     "metadata": {},
     "output_type": "execute_result"
    },
    {
     "data": {
      "text/plain": [
       "['36',\n",
       " '고려아연',\n",
       " '572,000',\n",
       " '0',\n",
       " '0.00%',\n",
       " '5,000',\n",
       " '107,936',\n",
       " '18,870',\n",
       " '19.31',\n",
       " '60,982',\n",
       " '13.38',\n",
       " '11.07']"
      ]
     },
     "execution_count": 9,
     "metadata": {},
     "output_type": "execute_result"
    },
    {
     "data": {
      "text/plain": [
       "['37',\n",
       " '우리금융지주',\n",
       " '14,650',\n",
       " '150',\n",
       " '+1.03%',\n",
       " '5,000',\n",
       " '106,661',\n",
       " '728,061',\n",
       " '34.44',\n",
       " '3,459,126',\n",
       " '4.48',\n",
       " '5.87']"
      ]
     },
     "execution_count": 9,
     "metadata": {},
     "output_type": "execute_result"
    },
    {
     "data": {
      "text/plain": [
       "['38',\n",
       " 'SK바이오사이언스',\n",
       " '138,000',\n",
       " '500',\n",
       " '+0.36%',\n",
       " '500',\n",
       " '105,570',\n",
       " '76,500',\n",
       " '5.09',\n",
       " '413,103',\n",
       " '53.14',\n",
       " '13.25']"
      ]
     },
     "execution_count": 9,
     "metadata": {},
     "output_type": "execute_result"
    },
    {
     "data": {
      "text/plain": [
       "['39',\n",
       " '대한항공',\n",
       " '30,350',\n",
       " '0',\n",
       " '0.00%',\n",
       " '5,000',\n",
       " '105,564',\n",
       " '347,821',\n",
       " '12.44',\n",
       " '2,620,286',\n",
       " '15.93',\n",
       " '11.60']"
      ]
     },
     "execution_count": 9,
     "metadata": {},
     "output_type": "execute_result"
    },
    {
     "data": {
      "text/plain": [
       "['40',\n",
       " '엔씨소프트',\n",
       " '467,000',\n",
       " '27,000',\n",
       " '+6.14%',\n",
       " '500',\n",
       " '102,525',\n",
       " '21,954',\n",
       " '42.76',\n",
       " '268,250',\n",
       " '28.83',\n",
       " '20.83']"
      ]
     },
     "execution_count": 9,
     "metadata": {},
     "output_type": "execute_result"
    },
    {
     "data": {
      "text/plain": [
       "['41',\n",
       " '현대중공업',\n",
       " '108,000',\n",
       " '2,000',\n",
       " '-1.82%',\n",
       " '5,000',\n",
       " '95,875',\n",
       " '88,773',\n",
       " '2.89',\n",
       " '757,591',\n",
       " '-10.13',\n",
       " '-14.87']"
      ]
     },
     "execution_count": 9,
     "metadata": {},
     "output_type": "execute_result"
    },
    {
     "data": {
      "text/plain": [
       "['42',\n",
       " 'S-Oil',\n",
       " '84,900',\n",
       " '100',\n",
       " '-0.12%',\n",
       " '2,500',\n",
       " '95,583',\n",
       " '112,583',\n",
       " '78.24',\n",
       " '370,915',\n",
       " '7.18',\n",
       " '21.76']"
      ]
     },
     "execution_count": 9,
     "metadata": {},
     "output_type": "execute_result"
    },
    {
     "data": {
      "text/plain": [
       "['43',\n",
       " '넷마블',\n",
       " '109,000',\n",
       " '0',\n",
       " '0.00%',\n",
       " '100',\n",
       " '93,689',\n",
       " '85,954',\n",
       " '22.89',\n",
       " '201,088',\n",
       " '40.31',\n",
       " '6.35']"
      ]
     },
     "execution_count": 9,
     "metadata": {},
     "output_type": "execute_result"
    },
    {
     "data": {
      "text/plain": [
       "['44',\n",
       " '아모레퍼시픽',\n",
       " '154,000',\n",
       " '1,000',\n",
       " '-0.65%',\n",
       " '500',\n",
       " '90,079',\n",
       " '58,493',\n",
       " '29.11',\n",
       " '770,015',\n",
       " '59.39',\n",
       " '0.78']"
      ]
     },
     "execution_count": 9,
     "metadata": {},
     "output_type": "execute_result"
    },
    {
     "data": {
      "text/plain": [
       "['45',\n",
       " 'LG이노텍',\n",
       " '370,000',\n",
       " '7,500',\n",
       " '+2.07%',\n",
       " '5,000',\n",
       " '87,568',\n",
       " '23,667',\n",
       " '23.81',\n",
       " '412,342',\n",
       " '9.86',\n",
       " '30.94']"
      ]
     },
     "execution_count": 9,
     "metadata": {},
     "output_type": "execute_result"
    },
    {
     "data": {
      "text/plain": [
       "['46',\n",
       " '삼성화재',\n",
       " '184,500',\n",
       " '0',\n",
       " '0.00%',\n",
       " '500',\n",
       " '87,407',\n",
       " '47,375',\n",
       " '48.36',\n",
       " '85,645',\n",
       " '8.31',\n",
       " '7.09']"
      ]
     },
     "execution_count": 9,
     "metadata": {},
     "output_type": "execute_result"
    },
    {
     "data": {
      "text/plain": [
       "['47',\n",
       " 'KT',\n",
       " '32,550',\n",
       " '500',\n",
       " '-1.51%',\n",
       " '5,000',\n",
       " '84,992',\n",
       " '261,112',\n",
       " '40.07',\n",
       " '778,174',\n",
       " '6.26',\n",
       " '9.36']"
      ]
     },
     "execution_count": 9,
     "metadata": {},
     "output_type": "execute_result"
    },
    {
     "data": {
      "text/plain": [
       "['48',\n",
       " '포스코케미칼',\n",
       " '106,500',\n",
       " '8,500',\n",
       " '+8.67%',\n",
       " '500',\n",
       " '82,498',\n",
       " '77,463',\n",
       " '6.02',\n",
       " '723,279',\n",
       " '60.41',\n",
       " '7.92']"
      ]
     },
     "execution_count": 9,
     "metadata": {},
     "output_type": "execute_result"
    },
    {
     "data": {
      "text/plain": [
       "['49',\n",
       " 'SK아이이테크놀로지',\n",
       " '115,000',\n",
       " '5,000',\n",
       " '+4.55%',\n",
       " '1,000',\n",
       " '81,992',\n",
       " '71,298',\n",
       " '9.60',\n",
       " '364,176',\n",
       " '82.56',\n",
       " '5.57']"
      ]
     },
     "execution_count": 9,
     "metadata": {},
     "output_type": "execute_result"
    },
    {
     "data": {
      "text/plain": [
       "['50',\n",
       " '기업은행',\n",
       " '10,600',\n",
       " '50',\n",
       " '+0.47%',\n",
       " '5,000',\n",
       " '78,896',\n",
       " '744,301',\n",
       " '14.05',\n",
       " '2,166,431',\n",
       " '3.50',\n",
       " '9.21']"
      ]
     },
     "execution_count": 9,
     "metadata": {},
     "output_type": "execute_result"
    }
   ],
   "source": [
    "stock_list = soup.find(\"table\", attrs={\"class\": \"type_2\"}).find(\"tbody\").find_all(\"tr\")\n",
    "\n",
    "for stock in stock_list:\n",
    "     if len(stock) > 1 :\n",
    "          stock.get_text().split()"
   ]
  },
  {
   "cell_type": "code",
   "execution_count": null,
   "id": "e37a1e85",
   "metadata": {},
   "outputs": [],
   "source": []
  }
 ],
 "metadata": {
  "kernelspec": {
   "display_name": "Python 3 (ipykernel)",
   "language": "python",
   "name": "python3"
  },
  "language_info": {
   "codemirror_mode": {
    "name": "ipython",
    "version": 3
   },
   "file_extension": ".py",
   "mimetype": "text/x-python",
   "name": "python",
   "nbconvert_exporter": "python",
   "pygments_lexer": "ipython3",
   "version": "3.9.7"
  }
 },
 "nbformat": 4,
 "nbformat_minor": 5
}
