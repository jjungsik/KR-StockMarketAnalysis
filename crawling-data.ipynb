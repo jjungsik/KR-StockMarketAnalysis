{
 "cells": [
  {
   "cell_type": "code",
   "execution_count": 2,
   "id": "4da018d3",
   "metadata": {},
   "outputs": [],
   "source": [
    "import pandas as pd\n",
    "import numpy as np\n",
    "import requests\n",
    "from bs4 import BeautifulSoup\n",
    "\n",
    "from IPython.core.interactiveshell import InteractiveShell\n",
    "InteractiveShell.ast_node_interactivity = \"all\"\n",
    "\n",
    "pd.set_option('display.float_format', lambda x: '%.3f' % x)\n",
    "pd.set_option('max_columns', None)"
   ]
  },
  {
   "cell_type": "markdown",
   "id": "7f3d2e04",
   "metadata": {},
   "source": [
    "# bring data using `BeatifulSoup` and `requests`"
   ]
  },
  {
   "cell_type": "markdown",
   "id": "f6913771",
   "metadata": {},
   "source": [
    "- Korea Stock Data bring in '[Naver Finace](https://finance.naver.com)' like 'yahoo Finace'\n",
    "- **lxml** is [BeatifulSoup Parser](https://lxml.de/elementsoup.html)"
   ]
  },
  {
   "cell_type": "markdown",
   "id": "a8a22f0b",
   "metadata": {},
   "source": [
    "![Different from other Parser](https://github.com/jjungsik/KR-StockMarketAnalysis/blob/main/img/DiffrentFromOtherParser.png?raw=true)"
   ]
  },
  {
   "cell_type": "code",
   "execution_count": 3,
   "id": "efefdcb4",
   "metadata": {
    "scrolled": true
   },
   "outputs": [],
   "source": [
    "# Korea market cap ranking URL\n",
    "url = \"https://finance.naver.com/sise/sise_market_sum.nhn?page=1\"\n",
    "\n",
    "res = requests.get(url)\n",
    "soup = BeautifulSoup(res.text, 'lxml')\n",
    "\n",
    "stock_head = soup.find(\"thead\").find_all(\"th\")\n",
    "data_head = [head.get_text() for head in stock_head]\n",
    "\n",
    "df = pd.DataFrame()"
   ]
  },
  {
   "cell_type": "code",
   "execution_count": 4,
   "id": "674bf818",
   "metadata": {},
   "outputs": [
    {
     "data": {
      "text/plain": [
       "['1',\n",
       " '삼성전자',\n",
       " '70,700',\n",
       " '500',\n",
       " '-0.70%',\n",
       " '100',\n",
       " '4,220,636',\n",
       " '5,969,783',\n",
       " '51.79',\n",
       " '14,241,145',\n",
       " '12.24',\n",
       " '13.92']"
      ]
     },
     "execution_count": 4,
     "metadata": {},
     "output_type": "execute_result"
    },
    {
     "data": {
      "text/plain": [
       "['2',\n",
       " 'SK하이닉스',\n",
       " '124,000',\n",
       " '0',\n",
       " '0.00%',\n",
       " '5,000',\n",
       " '902,723',\n",
       " '728,002',\n",
       " '50.62',\n",
       " '4,451,010',\n",
       " '9.40',\n",
       " '16.84']"
      ]
     },
     "execution_count": 4,
     "metadata": {},
     "output_type": "execute_result"
    },
    {
     "data": {
      "text/plain": [
       "['3',\n",
       " 'LG에너지솔루션',\n",
       " '382,000',\n",
       " '6,000',\n",
       " '+1.60%',\n",
       " '500',\n",
       " '893,880',\n",
       " '234,000',\n",
       " '2.90',\n",
       " '640,168',\n",
       " '96.39',\n",
       " '10.68']"
      ]
     },
     "execution_count": 4,
     "metadata": {},
     "output_type": "execute_result"
    },
    {
     "data": {
      "text/plain": [
       "['4',\n",
       " 'NAVER',\n",
       " '344,500',\n",
       " '0',\n",
       " '0.00%',\n",
       " '100',\n",
       " '565,149',\n",
       " '164,049',\n",
       " '54.70',\n",
       " '709,139',\n",
       " '3.43',\n",
       " '106.72']"
      ]
     },
     "execution_count": 4,
     "metadata": {},
     "output_type": "execute_result"
    },
    {
     "data": {
      "text/plain": [
       "['5',\n",
       " '삼성바이오로직스',\n",
       " '828,000',\n",
       " '13,000',\n",
       " '+1.60%',\n",
       " '2,500',\n",
       " '547,846',\n",
       " '66,165',\n",
       " '10.55',\n",
       " '51,085',\n",
       " '140.86',\n",
       " '8.21']"
      ]
     },
     "execution_count": 4,
     "metadata": {},
     "output_type": "execute_result"
    },
    {
     "data": {
      "text/plain": [
       "['6',\n",
       " '삼성전자우',\n",
       " '64,100',\n",
       " '400',\n",
       " '-0.62%',\n",
       " '100',\n",
       " '527,470',\n",
       " '822,887',\n",
       " '74.05',\n",
       " '1,333,684',\n",
       " '11.10',\n",
       " 'N/A']"
      ]
     },
     "execution_count": 4,
     "metadata": {},
     "output_type": "execute_result"
    },
    {
     "data": {
      "text/plain": [
       "['7',\n",
       " '카카오',\n",
       " '108,500',\n",
       " '2,000',\n",
       " '+1.88%',\n",
       " '100',\n",
       " '484,043',\n",
       " '446,123',\n",
       " '28.65',\n",
       " '2,961,679',\n",
       " '42.72',\n",
       " '2.70']"
      ]
     },
     "execution_count": 4,
     "metadata": {},
     "output_type": "execute_result"
    },
    {
     "data": {
      "text/plain": [
       "['8',\n",
       " '현대차',\n",
       " '171,000',\n",
       " '2,500',\n",
       " '+1.48%',\n",
       " '5,000',\n",
       " '365,373',\n",
       " '213,668',\n",
       " '26.30',\n",
       " '756,633',\n",
       " '9.58',\n",
       " '6.84']"
      ]
     },
     "execution_count": 4,
     "metadata": {},
     "output_type": "execute_result"
    },
    {
     "data": {
      "text/plain": [
       "['9',\n",
       " '삼성SDI',\n",
       " '504,000',\n",
       " '4,000',\n",
       " '-0.79%',\n",
       " '5,000',\n",
       " '346,573',\n",
       " '68,765',\n",
       " '43.32',\n",
       " '336,345',\n",
       " '30.32',\n",
       " '8.45']"
      ]
     },
     "execution_count": 4,
     "metadata": {},
     "output_type": "execute_result"
    },
    {
     "data": {
      "text/plain": [
       "['10',\n",
       " 'LG화학',\n",
       " '488,500',\n",
       " '18,500',\n",
       " '+3.94%',\n",
       " '5,000',\n",
       " '344,844',\n",
       " '70,592',\n",
       " '48.19',\n",
       " '552,456',\n",
       " '10.42',\n",
       " '18.47']"
      ]
     },
     "execution_count": 4,
     "metadata": {},
     "output_type": "execute_result"
    },
    {
     "data": {
      "text/plain": [
       "['11',\n",
       " '기아',\n",
       " '72,000',\n",
       " '400',\n",
       " '-0.55%',\n",
       " '5,000',\n",
       " '291,862',\n",
       " '405,363',\n",
       " '34.66',\n",
       " '1,358,587',\n",
       " '6.13',\n",
       " '14.69']"
      ]
     },
     "execution_count": 4,
     "metadata": {},
     "output_type": "execute_result"
    },
    {
     "data": {
      "text/plain": [
       "['12',\n",
       " '셀트리온',\n",
       " '186,500',\n",
       " '1,000',\n",
       " '+0.54%',\n",
       " '1,000',\n",
       " '257,287',\n",
       " '137,956',\n",
       " '20.26',\n",
       " '472,836',\n",
       " '45.59',\n",
       " '15.81']"
      ]
     },
     "execution_count": 4,
     "metadata": {},
     "output_type": "execute_result"
    },
    {
     "data": {
      "text/plain": [
       "['13',\n",
       " '카카오뱅크',\n",
       " '52,800',\n",
       " '700',\n",
       " '+1.34%',\n",
       " '5,000',\n",
       " '250,884',\n",
       " '475,159',\n",
       " '16.34',\n",
       " '826,090',\n",
       " '113.06',\n",
       " '4.91']"
      ]
     },
     "execution_count": 4,
     "metadata": {},
     "output_type": "execute_result"
    },
    {
     "data": {
      "text/plain": [
       "['14',\n",
       " 'POSCO홀딩스',\n",
       " '287,000',\n",
       " '3,500',\n",
       " '+1.23%',\n",
       " '5,000',\n",
       " '250,226',\n",
       " '87,187',\n",
       " '53.09',\n",
       " '376,733',\n",
       " '3.78',\n",
       " '13.97']"
      ]
     },
     "execution_count": 4,
     "metadata": {},
     "output_type": "execute_result"
    },
    {
     "data": {
      "text/plain": [
       "['15',\n",
       " 'KB금융',\n",
       " '57,500',\n",
       " '400',\n",
       " '-0.69%',\n",
       " '5,000',\n",
       " '237,103',\n",
       " '412,352',\n",
       " '72.39',\n",
       " '1,877,860',\n",
       " '5.50',\n",
       " '8.53']"
      ]
     },
     "execution_count": 4,
     "metadata": {},
     "output_type": "execute_result"
    },
    {
     "data": {
      "text/plain": [
       "['16',\n",
       " '삼성물산',\n",
       " '115,500',\n",
       " '0',\n",
       " '0.00%',\n",
       " '100',\n",
       " '215,855',\n",
       " '186,887',\n",
       " '15.91',\n",
       " '343,833',\n",
       " '13.32',\n",
       " '5.40']"
      ]
     },
     "execution_count": 4,
     "metadata": {},
     "output_type": "execute_result"
    },
    {
     "data": {
      "text/plain": [
       "['17',\n",
       " 'LG전자',\n",
       " '123,500',\n",
       " '2,500',\n",
       " '-1.98%',\n",
       " '5,000',\n",
       " '202,105',\n",
       " '163,648',\n",
       " '28.53',\n",
       " '936,181',\n",
       " '21.65',\n",
       " '6.32']"
      ]
     },
     "execution_count": 4,
     "metadata": {},
     "output_type": "execute_result"
    },
    {
     "data": {
      "text/plain": [
       "['18',\n",
       " '현대모비스',\n",
       " '210,500',\n",
       " '500',\n",
       " '+0.24%',\n",
       " '5,000',\n",
       " '199,076',\n",
       " '94,573',\n",
       " '34.27',\n",
       " '330,059',\n",
       " '8.48',\n",
       " '6.87']"
      ]
     },
     "execution_count": 4,
     "metadata": {},
     "output_type": "execute_result"
    },
    {
     "data": {
      "text/plain": [
       "['19',\n",
       " '신한지주',\n",
       " '38,200',\n",
       " '100',\n",
       " '-0.26%',\n",
       " '5,000',\n",
       " '197,341',\n",
       " '516,600',\n",
       " '62.09',\n",
       " '1,569,389',\n",
       " '5.07',\n",
       " '8.20']"
      ]
     },
     "execution_count": 4,
     "metadata": {},
     "output_type": "execute_result"
    },
    {
     "data": {
      "text/plain": [
       "['20',\n",
       " '카카오페이',\n",
       " '145,500',\n",
       " '3,000',\n",
       " '+2.11%',\n",
       " '500',\n",
       " '192,306',\n",
       " '132,169',\n",
       " '42.52',\n",
       " '206,880',\n",
       " '-723.88',\n",
       " '-17.97']"
      ]
     },
     "execution_count": 4,
     "metadata": {},
     "output_type": "execute_result"
    },
    {
     "data": {
      "text/plain": [
       "['21',\n",
       " 'SK이노베이션',\n",
       " '199,500',\n",
       " '1,500',\n",
       " '-0.75%',\n",
       " '5,000',\n",
       " '184,469',\n",
       " '92,466',\n",
       " '23.19',\n",
       " '328,807',\n",
       " '61.38',\n",
       " '1.91']"
      ]
     },
     "execution_count": 4,
     "metadata": {},
     "output_type": "execute_result"
    },
    {
     "data": {
      "text/plain": [
       "['22',\n",
       " 'SK',\n",
       " '238,500',\n",
       " '3,000',\n",
       " '+1.27%',\n",
       " '200',\n",
       " '176,846',\n",
       " '74,149',\n",
       " '21.56',\n",
       " '202,903',\n",
       " '8.62',\n",
       " '10.19']"
      ]
     },
     "execution_count": 4,
     "metadata": {},
     "output_type": "execute_result"
    },
    {
     "data": {
      "text/plain": [
       "['23',\n",
       " 'HMM',\n",
       " '33,950',\n",
       " '1,400',\n",
       " '+4.30%',\n",
       " '5,000',\n",
       " '166,029',\n",
       " '489,039',\n",
       " '12.02',\n",
       " '10,540,496',\n",
       " '2.47',\n",
       " '88.62']"
      ]
     },
     "execution_count": 4,
     "metadata": {},
     "output_type": "execute_result"
    },
    {
     "data": {
      "text/plain": [
       "['24',\n",
       " '한국전력',\n",
       " '24,000',\n",
       " '250',\n",
       " '-1.03%',\n",
       " '5,000',\n",
       " '154,071',\n",
       " '641,964',\n",
       " '14.97',\n",
       " '2,281,314',\n",
       " '-2.90',\n",
       " '-7.99']"
      ]
     },
     "execution_count": 4,
     "metadata": {},
     "output_type": "execute_result"
    },
    {
     "data": {
      "text/plain": [
       "['25',\n",
       " '하나금융지주',\n",
       " '47,750',\n",
       " '50',\n",
       " '-0.10%',\n",
       " '5,000',\n",
       " '143,366',\n",
       " '300,242',\n",
       " '70.96',\n",
       " '1,721,950',\n",
       " '4.07',\n",
       " '10.86']"
      ]
     },
     "execution_count": 4,
     "metadata": {},
     "output_type": "execute_result"
    },
    {
     "data": {
      "text/plain": [
       "['26',\n",
       " '크래프톤',\n",
       " '286,000',\n",
       " '2,000',\n",
       " '+0.70%',\n",
       " '100',\n",
       " '140,346',\n",
       " '49,072',\n",
       " '29.47',\n",
       " '286,359',\n",
       " '25.00',\n",
       " '17.86']"
      ]
     },
     "execution_count": 4,
     "metadata": {},
     "output_type": "execute_result"
    },
    {
     "data": {
      "text/plain": [
       "['27',\n",
       " '두산중공업',\n",
       " '22,400',\n",
       " '200',\n",
       " '-0.88%',\n",
       " '5,000',\n",
       " '135,549',\n",
       " '605,128',\n",
       " '8.53',\n",
       " '6,012,021',\n",
       " '67.47',\n",
       " '-37.20']"
      ]
     },
     "execution_count": 4,
     "metadata": {},
     "output_type": "execute_result"
    },
    {
     "data": {
      "text/plain": [
       "['28',\n",
       " 'LG생활건강',\n",
       " '838,000',\n",
       " '25,000',\n",
       " '-2.90%',\n",
       " '5,000',\n",
       " '130,880',\n",
       " '15,618',\n",
       " '41.19',\n",
       " '93,539',\n",
       " '17.58',\n",
       " '16.65']"
      ]
     },
     "execution_count": 4,
     "metadata": {},
     "output_type": "execute_result"
    },
    {
     "data": {
      "text/plain": [
       "['29',\n",
       " 'SK텔레콤',\n",
       " '58,100',\n",
       " '900',\n",
       " '+1.57%',\n",
       " '100',\n",
       " '127,142',\n",
       " '218,833',\n",
       " '45.65',\n",
       " '832,165',\n",
       " '8.49',\n",
       " '13.63']"
      ]
     },
     "execution_count": 4,
     "metadata": {},
     "output_type": "execute_result"
    },
    {
     "data": {
      "text/plain": [
       "['30',\n",
       " '삼성생명',\n",
       " '62,600',\n",
       " '300',\n",
       " '+0.48%',\n",
       " '500',\n",
       " '125,200',\n",
       " '200,000',\n",
       " '12.70',\n",
       " '319,439',\n",
       " '8.52',\n",
       " '4.01']"
      ]
     },
     "execution_count": 4,
     "metadata": {},
     "output_type": "execute_result"
    },
    {
     "data": {
      "text/plain": [
       "['31',\n",
       " '삼성전기',\n",
       " '161,000',\n",
       " '1,000',\n",
       " '+0.63%',\n",
       " '5,000',\n",
       " '120,257',\n",
       " '74,694',\n",
       " '29.26',\n",
       " '471,606',\n",
       " '14.00',\n",
       " '14.29']"
      ]
     },
     "execution_count": 4,
     "metadata": {},
     "output_type": "execute_result"
    },
    {
     "data": {
      "text/plain": [
       "['32',\n",
       " 'LG',\n",
       " '75,300',\n",
       " '1,500',\n",
       " '+2.03%',\n",
       " '5,000',\n",
       " '118,448',\n",
       " '157,301',\n",
       " '36.39',\n",
       " '386,557',\n",
       " '4.97',\n",
       " '7.50']"
      ]
     },
     "execution_count": 4,
     "metadata": {},
     "output_type": "execute_result"
    },
    {
     "data": {
      "text/plain": [
       "['33',\n",
       " '하이브',\n",
       " '285,500',\n",
       " '5,500',\n",
       " '+1.96%',\n",
       " '500',\n",
       " '118,064',\n",
       " '41,353',\n",
       " '15.17',\n",
       " '210,594',\n",
       " '79.17',\n",
       " '6.83']"
      ]
     },
     "execution_count": 4,
     "metadata": {},
     "output_type": "execute_result"
    },
    {
     "data": {
      "text/plain": [
       "['34',\n",
       " 'SK바이오사이언스',\n",
       " '148,000',\n",
       " '10,000',\n",
       " '+7.25%',\n",
       " '500',\n",
       " '113,220',\n",
       " '76,500',\n",
       " '5.21',\n",
       " '1,303,618',\n",
       " '56.99',\n",
       " '13.25']"
      ]
     },
     "execution_count": 4,
     "metadata": {},
     "output_type": "execute_result"
    },
    {
     "data": {
      "text/plain": [
       "['35',\n",
       " 'KT&G',\n",
       " '81,500',\n",
       " '300',\n",
       " '+0.37%',\n",
       " '5,000',\n",
       " '111,893',\n",
       " '137,292',\n",
       " '37.00',\n",
       " '348,020',\n",
       " '9.40',\n",
       " '13.22']"
      ]
     },
     "execution_count": 4,
     "metadata": {},
     "output_type": "execute_result"
    },
    {
     "data": {
      "text/plain": [
       "['36',\n",
       " '삼성에스디에스',\n",
       " '141,500',\n",
       " '2,000',\n",
       " '+1.43%',\n",
       " '500',\n",
       " '109,490',\n",
       " '77,378',\n",
       " '11.42',\n",
       " '134,272',\n",
       " '17.91',\n",
       " '8.80']"
      ]
     },
     "execution_count": 4,
     "metadata": {},
     "output_type": "execute_result"
    },
    {
     "data": {
      "text/plain": [
       "['37',\n",
       " '우리금융지주',\n",
       " '14,800',\n",
       " '150',\n",
       " '+1.02%',\n",
       " '5,000',\n",
       " '107,753',\n",
       " '728,061',\n",
       " '34.54',\n",
       " '6,404,969',\n",
       " '4.53',\n",
       " '5.87']"
      ]
     },
     "execution_count": 4,
     "metadata": {},
     "output_type": "execute_result"
    },
    {
     "data": {
      "text/plain": [
       "['38',\n",
       " '고려아연',\n",
       " '569,000',\n",
       " '3,000',\n",
       " '-0.52%',\n",
       " '5,000',\n",
       " '107,370',\n",
       " '18,870',\n",
       " '19.43',\n",
       " '53,231',\n",
       " '13.31',\n",
       " '11.07']"
      ]
     },
     "execution_count": 4,
     "metadata": {},
     "output_type": "execute_result"
    },
    {
     "data": {
      "text/plain": [
       "['39',\n",
       " '대한항공',\n",
       " '30,450',\n",
       " '100',\n",
       " '+0.33%',\n",
       " '5,000',\n",
       " '105,911',\n",
       " '347,821',\n",
       " '12.53',\n",
       " '2,020,144',\n",
       " '15.98',\n",
       " '11.60']"
      ]
     },
     "execution_count": 4,
     "metadata": {},
     "output_type": "execute_result"
    },
    {
     "data": {
      "text/plain": [
       "['40',\n",
       " '엔씨소프트',\n",
       " '467,000',\n",
       " '0',\n",
       " '0.00%',\n",
       " '500',\n",
       " '102,525',\n",
       " '21,954',\n",
       " '42.74',\n",
       " '129,658',\n",
       " '28.83',\n",
       " '20.83']"
      ]
     },
     "execution_count": 4,
     "metadata": {},
     "output_type": "execute_result"
    },
    {
     "data": {
      "text/plain": [
       "['41',\n",
       " '현대중공업',\n",
       " '108,500',\n",
       " '500',\n",
       " '+0.46%',\n",
       " '5,000',\n",
       " '96,319',\n",
       " '88,773',\n",
       " '3.11',\n",
       " '858,908',\n",
       " '-10.17',\n",
       " '-14.87']"
      ]
     },
     "execution_count": 4,
     "metadata": {},
     "output_type": "execute_result"
    },
    {
     "data": {
      "text/plain": [
       "['42',\n",
       " 'S-Oil',\n",
       " '85,400',\n",
       " '500',\n",
       " '+0.59%',\n",
       " '2,500',\n",
       " '96,146',\n",
       " '112,583',\n",
       " '78.27',\n",
       " '257,325',\n",
       " '7.22',\n",
       " '21.76']"
      ]
     },
     "execution_count": 4,
     "metadata": {},
     "output_type": "execute_result"
    },
    {
     "data": {
      "text/plain": [
       "['43',\n",
       " '넷마블',\n",
       " '110,000',\n",
       " '1,000',\n",
       " '+0.92%',\n",
       " '100',\n",
       " '94,549',\n",
       " '85,954',\n",
       " '22.90',\n",
       " '136,531',\n",
       " '40.68',\n",
       " '6.35']"
      ]
     },
     "execution_count": 4,
     "metadata": {},
     "output_type": "execute_result"
    },
    {
     "data": {
      "text/plain": [
       "['44',\n",
       " 'LG이노텍',\n",
       " '382,000',\n",
       " '12,000',\n",
       " '+3.24%',\n",
       " '5,000',\n",
       " '90,408',\n",
       " '23,667',\n",
       " '24.11',\n",
       " '472,235',\n",
       " '10.18',\n",
       " '30.94']"
      ]
     },
     "execution_count": 4,
     "metadata": {},
     "output_type": "execute_result"
    },
    {
     "data": {
      "text/plain": [
       "['45',\n",
       " '삼성화재',\n",
       " '188,000',\n",
       " '3,500',\n",
       " '+1.90%',\n",
       " '500',\n",
       " '89,065',\n",
       " '47,375',\n",
       " '48.32',\n",
       " '184,105',\n",
       " '8.47',\n",
       " '7.09']"
      ]
     },
     "execution_count": 4,
     "metadata": {},
     "output_type": "execute_result"
    },
    {
     "data": {
      "text/plain": [
       "['46',\n",
       " '아모레퍼시픽',\n",
       " '151,000',\n",
       " '3,000',\n",
       " '-1.95%',\n",
       " '500',\n",
       " '88,324',\n",
       " '58,493',\n",
       " '28.50',\n",
       " '602,843',\n",
       " '53.81',\n",
       " '4.20']"
      ]
     },
     "execution_count": 4,
     "metadata": {},
     "output_type": "execute_result"
    },
    {
     "data": {
      "text/plain": [
       "['47',\n",
       " 'KT',\n",
       " '32,900',\n",
       " '350',\n",
       " '+1.08%',\n",
       " '5,000',\n",
       " '85,906',\n",
       " '261,112',\n",
       " '40.08',\n",
       " '648,629',\n",
       " '6.33',\n",
       " '9.36']"
      ]
     },
     "execution_count": 4,
     "metadata": {},
     "output_type": "execute_result"
    },
    {
     "data": {
      "text/plain": [
       "['48',\n",
       " 'SK아이이테크놀로지',\n",
       " '116,000',\n",
       " '1,000',\n",
       " '+0.87%',\n",
       " '1,000',\n",
       " '82,705',\n",
       " '71,298',\n",
       " '9.52',\n",
       " '287,487',\n",
       " '83.27',\n",
       " '5.57']"
      ]
     },
     "execution_count": 4,
     "metadata": {},
     "output_type": "execute_result"
    },
    {
     "data": {
      "text/plain": [
       "['49',\n",
       " '포스코케미칼',\n",
       " '105,500',\n",
       " '1,000',\n",
       " '-0.94%',\n",
       " '500',\n",
       " '81,724',\n",
       " '77,463',\n",
       " '6.10',\n",
       " '333,106',\n",
       " '59.84',\n",
       " '7.92']"
      ]
     },
     "execution_count": 4,
     "metadata": {},
     "output_type": "execute_result"
    },
    {
     "data": {
      "text/plain": [
       "['50',\n",
       " '기업은행',\n",
       " '10,600',\n",
       " '0',\n",
       " '0.00%',\n",
       " '5,000',\n",
       " '78,896',\n",
       " '744,301',\n",
       " '14.10',\n",
       " '2,012,080',\n",
       " '3.50',\n",
       " '9.21']"
      ]
     },
     "execution_count": 4,
     "metadata": {},
     "output_type": "execute_result"
    }
   ],
   "source": [
    "stock_list = soup.find(\"table\", attrs={\"class\": \"type_2\"}).find(\"tbody\").find_all(\"tr\")\n",
    "\n",
    "for stock in stock_list:\n",
    "     if len(stock) > 1 :\n",
    "          stock.get_text().split()"
   ]
  },
  {
   "cell_type": "markdown",
   "id": "e1b0e11c",
   "metadata": {},
   "source": [
    "# bring data using `pandas.read_html()`"
   ]
  },
  {
   "cell_type": "markdown",
   "id": "c7712a03",
   "metadata": {},
   "source": [
    "- [Korea stock code data source](http://data.krx.co.kr/contents/MDC/MDI/mdiLoader/index.cmd?menuId=MDC0201020201)\n",
    "- 모든 종목의 재무제표를 크롤링하기 위해 단축코드와 한글 종목약명만이 필요하므로 그 외에는 버리도록 하겠습니다. "
   ]
  },
  {
   "cell_type": "code",
   "execution_count": 24,
   "id": "de033c58",
   "metadata": {},
   "outputs": [],
   "source": [
    "# All the stock code listed in korea stock market\n",
    "listed_stock_df = pd.read_csv('./dataset/data_krx_20220318.csv', encoding='euc-kr')\n",
    "listed_stock_df = listed_stock_df.loc[:, ['단축코드', '한글 종목약명']]\n",
    "listed_stock_df.rename({'단축코드' : '종목코드', '한글 종목약명' : '종목명'}, axis = 1, inplace=True)\n",
    "listed_stock_df.sort_values(by=listed_stock_df.columns[0], inplace=True)"
   ]
  },
  {
   "cell_type": "markdown",
   "id": "dbd5441e",
   "metadata": {},
   "source": [
    "## Data cleaning"
   ]
  },
  {
   "cell_type": "code",
   "execution_count": 6,
   "id": "bf33c4ee",
   "metadata": {
    "scrolled": true
   },
   "outputs": [],
   "source": [
    "# 네이버 금융 사이트에서 dataframe형태로 재무제표 정보를 가지고 수정을 한 것을 return하는 함수\n",
    "def get_financial_df(stock_code, stock_name):\n",
    "    url = 'https://finance.naver.com/item/main.naver?code=' + stock_code\n",
    "    table_df_list = pd.read_html(url, encoding='euc-kr') # 한글 깨짐 현상으로 인해, 'euc-kr'로 인코딩\n",
    "    financial_df = table_df_list[3]\n",
    "    financial_df = financial_df.droplevel([0, 2], axis=1)\n",
    "    financial_df.insert(0, column='종목명', value=stock_name)\n",
    "    financial_df.insert(0, column='종목코드', value=stock_code)\n",
    "    return financial_df"
   ]
  },
  {
   "cell_type": "markdown",
   "id": "091a9b53",
   "metadata": {},
   "source": [
    "- **문제점**\n",
    "    1. 불필요한 문자열(IFRS연결, 최근 연간실적) - column level 관련 문제\n",
    "    2. 합치기에 부적절한 dataframe 구조\n",
    "- **해결책**\n",
    "    1. 해당 컬럼라인 자체를 삭제 - `df.column.droplevel()`을 이용\n",
    "    2. groupby를 통해 종목명 또는 종목코드로 그룹"
   ]
  },
  {
   "cell_type": "code",
   "execution_count": 29,
   "id": "8aeb3e08",
   "metadata": {},
   "outputs": [
    {
     "name": "stderr",
     "output_type": "stream",
     "text": [
      "/var/folders/gf/g217w4jj3r997z6b2rr3vbhw0000gn/T/ipykernel_764/544083895.py:4: FutureWarning: In a future version of pandas all arguments of concat except for the argument 'objs' will be keyword-only\n",
      "  stock_df = pd.concat(stock_df, tmp_df, ignore_index=True)\n"
     ]
    },
    {
     "ename": "TypeError",
     "evalue": "first argument must be an iterable of pandas objects, you passed an object of type \"DataFrame\"",
     "output_type": "error",
     "traceback": [
      "\u001b[0;31m---------------------------------------------------------------------------\u001b[0m",
      "\u001b[0;31mTypeError\u001b[0m                                 Traceback (most recent call last)",
      "\u001b[0;32m/var/folders/gf/g217w4jj3r997z6b2rr3vbhw0000gn/T/ipykernel_764/544083895.py\u001b[0m in \u001b[0;36m<module>\u001b[0;34m\u001b[0m\n\u001b[1;32m      2\u001b[0m \u001b[0;32mfor\u001b[0m \u001b[0mi\u001b[0m \u001b[0;32min\u001b[0m \u001b[0mlisted_stock_df\u001b[0m\u001b[0;34m.\u001b[0m\u001b[0mindex\u001b[0m\u001b[0;34m:\u001b[0m\u001b[0;34m\u001b[0m\u001b[0;34m\u001b[0m\u001b[0m\n\u001b[1;32m      3\u001b[0m     \u001b[0mtmp_df\u001b[0m \u001b[0;34m=\u001b[0m \u001b[0mget_financial_df\u001b[0m\u001b[0;34m(\u001b[0m\u001b[0mlisted_stock_df\u001b[0m\u001b[0;34m[\u001b[0m\u001b[0;34m'종목코드'\u001b[0m\u001b[0;34m]\u001b[0m\u001b[0;34m[\u001b[0m\u001b[0mi\u001b[0m\u001b[0;34m]\u001b[0m\u001b[0;34m,\u001b[0m \u001b[0mlisted_stock_df\u001b[0m\u001b[0;34m[\u001b[0m\u001b[0;34m'종목명'\u001b[0m\u001b[0;34m]\u001b[0m\u001b[0;34m[\u001b[0m\u001b[0mi\u001b[0m\u001b[0;34m]\u001b[0m\u001b[0;34m)\u001b[0m\u001b[0;34m\u001b[0m\u001b[0;34m\u001b[0m\u001b[0m\n\u001b[0;32m----> 4\u001b[0;31m     \u001b[0mstock_df\u001b[0m \u001b[0;34m=\u001b[0m \u001b[0mpd\u001b[0m\u001b[0;34m.\u001b[0m\u001b[0mconcat\u001b[0m\u001b[0;34m(\u001b[0m\u001b[0mstock_df\u001b[0m\u001b[0;34m,\u001b[0m \u001b[0mtmp_df\u001b[0m\u001b[0;34m,\u001b[0m \u001b[0mignore_index\u001b[0m\u001b[0;34m=\u001b[0m\u001b[0;32mTrue\u001b[0m\u001b[0;34m)\u001b[0m\u001b[0;34m\u001b[0m\u001b[0;34m\u001b[0m\u001b[0m\n\u001b[0m",
      "\u001b[0;32m~/opt/anaconda3/lib/python3.9/site-packages/pandas/util/_decorators.py\u001b[0m in \u001b[0;36mwrapper\u001b[0;34m(*args, **kwargs)\u001b[0m\n\u001b[1;32m    309\u001b[0m                     \u001b[0mstacklevel\u001b[0m\u001b[0;34m=\u001b[0m\u001b[0mstacklevel\u001b[0m\u001b[0;34m,\u001b[0m\u001b[0;34m\u001b[0m\u001b[0;34m\u001b[0m\u001b[0m\n\u001b[1;32m    310\u001b[0m                 )\n\u001b[0;32m--> 311\u001b[0;31m             \u001b[0;32mreturn\u001b[0m \u001b[0mfunc\u001b[0m\u001b[0;34m(\u001b[0m\u001b[0;34m*\u001b[0m\u001b[0margs\u001b[0m\u001b[0;34m,\u001b[0m \u001b[0;34m**\u001b[0m\u001b[0mkwargs\u001b[0m\u001b[0;34m)\u001b[0m\u001b[0;34m\u001b[0m\u001b[0;34m\u001b[0m\u001b[0m\n\u001b[0m\u001b[1;32m    312\u001b[0m \u001b[0;34m\u001b[0m\u001b[0m\n\u001b[1;32m    313\u001b[0m         \u001b[0;32mreturn\u001b[0m \u001b[0mwrapper\u001b[0m\u001b[0;34m\u001b[0m\u001b[0;34m\u001b[0m\u001b[0m\n",
      "\u001b[0;32m~/opt/anaconda3/lib/python3.9/site-packages/pandas/core/reshape/concat.py\u001b[0m in \u001b[0;36mconcat\u001b[0;34m(objs, axis, join, ignore_index, keys, levels, names, verify_integrity, sort, copy)\u001b[0m\n\u001b[1;32m    292\u001b[0m     \u001b[0mValueError\u001b[0m\u001b[0;34m:\u001b[0m \u001b[0mIndexes\u001b[0m \u001b[0mhave\u001b[0m \u001b[0moverlapping\u001b[0m \u001b[0mvalues\u001b[0m\u001b[0;34m:\u001b[0m \u001b[0;34m[\u001b[0m\u001b[0;34m'a'\u001b[0m\u001b[0;34m]\u001b[0m\u001b[0;34m\u001b[0m\u001b[0;34m\u001b[0m\u001b[0m\n\u001b[1;32m    293\u001b[0m     \"\"\"\n\u001b[0;32m--> 294\u001b[0;31m     op = _Concatenator(\n\u001b[0m\u001b[1;32m    295\u001b[0m         \u001b[0mobjs\u001b[0m\u001b[0;34m,\u001b[0m\u001b[0;34m\u001b[0m\u001b[0;34m\u001b[0m\u001b[0m\n\u001b[1;32m    296\u001b[0m         \u001b[0maxis\u001b[0m\u001b[0;34m=\u001b[0m\u001b[0maxis\u001b[0m\u001b[0;34m,\u001b[0m\u001b[0;34m\u001b[0m\u001b[0;34m\u001b[0m\u001b[0m\n",
      "\u001b[0;32m~/opt/anaconda3/lib/python3.9/site-packages/pandas/core/reshape/concat.py\u001b[0m in \u001b[0;36m__init__\u001b[0;34m(self, objs, axis, join, keys, levels, names, ignore_index, verify_integrity, copy, sort)\u001b[0m\n\u001b[1;32m    327\u001b[0m     ):\n\u001b[1;32m    328\u001b[0m         \u001b[0;32mif\u001b[0m \u001b[0misinstance\u001b[0m\u001b[0;34m(\u001b[0m\u001b[0mobjs\u001b[0m\u001b[0;34m,\u001b[0m \u001b[0;34m(\u001b[0m\u001b[0mABCSeries\u001b[0m\u001b[0;34m,\u001b[0m \u001b[0mABCDataFrame\u001b[0m\u001b[0;34m,\u001b[0m \u001b[0mstr\u001b[0m\u001b[0;34m)\u001b[0m\u001b[0;34m)\u001b[0m\u001b[0;34m:\u001b[0m\u001b[0;34m\u001b[0m\u001b[0;34m\u001b[0m\u001b[0m\n\u001b[0;32m--> 329\u001b[0;31m             raise TypeError(\n\u001b[0m\u001b[1;32m    330\u001b[0m                 \u001b[0;34m\"first argument must be an iterable of pandas \"\u001b[0m\u001b[0;34m\u001b[0m\u001b[0;34m\u001b[0m\u001b[0m\n\u001b[1;32m    331\u001b[0m                 \u001b[0;34mf'objects, you passed an object of type \"{type(objs).__name__}\"'\u001b[0m\u001b[0;34m\u001b[0m\u001b[0;34m\u001b[0m\u001b[0m\n",
      "\u001b[0;31mTypeError\u001b[0m: first argument must be an iterable of pandas objects, you passed an object of type \"DataFrame\""
     ]
    }
   ],
   "source": [
    "stock_df = pd.DataFrame()\n",
    "for i in listed_stock_df.index:\n",
    "    tmp_df = get_financial_df(listed_stock_df['종목코드'][i], listed_stock_df['종목명'][i])\n",
    "    stock_df = pd.concat(, ignore_index=True)"
   ]
  },
  {
   "cell_type": "code",
   "execution_count": null,
   "id": "c49203a1",
   "metadata": {},
   "outputs": [],
   "source": [
    "list"
   ]
  },
  {
   "cell_type": "code",
   "execution_count": null,
   "id": "bac7e65b",
   "metadata": {},
   "outputs": [],
   "source": []
  }
 ],
 "metadata": {
  "kernelspec": {
   "display_name": "Python 3 (ipykernel)",
   "language": "python",
   "name": "python3"
  },
  "language_info": {
   "codemirror_mode": {
    "name": "ipython",
    "version": 3
   },
   "file_extension": ".py",
   "mimetype": "text/x-python",
   "name": "python",
   "nbconvert_exporter": "python",
   "pygments_lexer": "ipython3",
   "version": "3.9.7"
  },
  "toc": {
   "base_numbering": 1,
   "nav_menu": {},
   "number_sections": true,
   "sideBar": true,
   "skip_h1_title": false,
   "title_cell": "Table of Contents",
   "title_sidebar": "Contents",
   "toc_cell": false,
   "toc_position": {
    "height": "calc(100% - 180px)",
    "left": "10px",
    "top": "150px",
    "width": "165px"
   },
   "toc_section_display": true,
   "toc_window_display": false
  }
 },
 "nbformat": 4,
 "nbformat_minor": 5
}
